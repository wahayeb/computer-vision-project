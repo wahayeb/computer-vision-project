{
 "cells": [
  {
   "cell_type": "code",
   "execution_count": 1,
   "id": "46a1686a-eebe-437f-a821-6ca4d0d8025a",
   "metadata": {},
   "outputs": [],
   "source": [
    "import sys\n",
    "sys.path.append(r\"C:\\Users\\wahay\\Downloads\\yolov5\\yolov5-master\")"
   ]
  },
  {
   "cell_type": "code",
   "execution_count": 2,
   "id": "8992e756-d9ed-402a-b00b-20be6e18613e",
   "metadata": {},
   "outputs": [
    {
     "name": "stdout",
     "output_type": "stream",
     "text": [
      "Requirement already satisfied: gitpython>=3.1.30 in c:\\users\\wahay\\anaconda3\\lib\\site-packages (from -r C:\\Users\\wahay\\Downloads\\yolov5\\yolov5-master\\requirements.txt (line 5)) (3.1.43)\n",
      "Requirement already satisfied: matplotlib>=3.3 in c:\\users\\wahay\\anaconda3\\lib\\site-packages (from -r C:\\Users\\wahay\\Downloads\\yolov5\\yolov5-master\\requirements.txt (line 6)) (3.10.0)\n",
      "Requirement already satisfied: numpy>=1.23.5 in c:\\users\\wahay\\anaconda3\\lib\\site-packages (from -r C:\\Users\\wahay\\Downloads\\yolov5\\yolov5-master\\requirements.txt (line 7)) (2.1.3)\n",
      "Requirement already satisfied: opencv-python>=4.1.1 in c:\\users\\wahay\\anaconda3\\lib\\site-packages (from -r C:\\Users\\wahay\\Downloads\\yolov5\\yolov5-master\\requirements.txt (line 8)) (4.12.0.88)\n",
      "Requirement already satisfied: pillow>=10.3.0 in c:\\users\\wahay\\anaconda3\\lib\\site-packages (from -r C:\\Users\\wahay\\Downloads\\yolov5\\yolov5-master\\requirements.txt (line 9)) (11.1.0)\n",
      "Requirement already satisfied: psutil in c:\\users\\wahay\\appdata\\roaming\\python\\python313\\site-packages (from -r C:\\Users\\wahay\\Downloads\\yolov5\\yolov5-master\\requirements.txt (line 10)) (7.0.0)\n",
      "Requirement already satisfied: PyYAML>=5.3.1 in c:\\users\\wahay\\anaconda3\\lib\\site-packages (from -r C:\\Users\\wahay\\Downloads\\yolov5\\yolov5-master\\requirements.txt (line 11)) (6.0.2)\n",
      "Requirement already satisfied: requests>=2.32.2 in c:\\users\\wahay\\anaconda3\\lib\\site-packages (from -r C:\\Users\\wahay\\Downloads\\yolov5\\yolov5-master\\requirements.txt (line 12)) (2.32.3)\n",
      "Requirement already satisfied: scipy>=1.4.1 in c:\\users\\wahay\\anaconda3\\lib\\site-packages (from -r C:\\Users\\wahay\\Downloads\\yolov5\\yolov5-master\\requirements.txt (line 13)) (1.15.3)\n",
      "Requirement already satisfied: thop>=0.1.1 in c:\\users\\wahay\\anaconda3\\lib\\site-packages (from -r C:\\Users\\wahay\\Downloads\\yolov5\\yolov5-master\\requirements.txt (line 14)) (0.1.1.post2209072238)\n",
      "Requirement already satisfied: torch>=1.8.0 in c:\\users\\wahay\\anaconda3\\lib\\site-packages (from -r C:\\Users\\wahay\\Downloads\\yolov5\\yolov5-master\\requirements.txt (line 15)) (2.8.0)\n",
      "Requirement already satisfied: torchvision>=0.9.0 in c:\\users\\wahay\\anaconda3\\lib\\site-packages (from -r C:\\Users\\wahay\\Downloads\\yolov5\\yolov5-master\\requirements.txt (line 16)) (0.23.0)\n",
      "Requirement already satisfied: tqdm>=4.66.3 in c:\\users\\wahay\\anaconda3\\lib\\site-packages (from -r C:\\Users\\wahay\\Downloads\\yolov5\\yolov5-master\\requirements.txt (line 17)) (4.67.1)\n",
      "Requirement already satisfied: ultralytics>=8.2.64 in c:\\users\\wahay\\anaconda3\\lib\\site-packages (from -r C:\\Users\\wahay\\Downloads\\yolov5\\yolov5-master\\requirements.txt (line 18)) (8.3.192)\n",
      "Requirement already satisfied: pandas>=1.1.4 in c:\\users\\wahay\\anaconda3\\lib\\site-packages (from -r C:\\Users\\wahay\\Downloads\\yolov5\\yolov5-master\\requirements.txt (line 27)) (2.2.3)\n",
      "Requirement already satisfied: seaborn>=0.11.0 in c:\\users\\wahay\\anaconda3\\lib\\site-packages (from -r C:\\Users\\wahay\\Downloads\\yolov5\\yolov5-master\\requirements.txt (line 28)) (0.13.2)\n",
      "Requirement already satisfied: packaging in c:\\users\\wahay\\appdata\\roaming\\python\\python313\\site-packages (from -r C:\\Users\\wahay\\Downloads\\yolov5\\yolov5-master\\requirements.txt (line 42)) (25.0)\n",
      "Requirement already satisfied: setuptools>=70.0.0 in c:\\users\\wahay\\anaconda3\\lib\\site-packages (from -r C:\\Users\\wahay\\Downloads\\yolov5\\yolov5-master\\requirements.txt (line 43)) (72.1.0)\n",
      "Requirement already satisfied: gitdb<5,>=4.0.1 in c:\\users\\wahay\\anaconda3\\lib\\site-packages (from gitpython>=3.1.30->-r C:\\Users\\wahay\\Downloads\\yolov5\\yolov5-master\\requirements.txt (line 5)) (4.0.7)\n",
      "Requirement already satisfied: smmap<5,>=3.0.1 in c:\\users\\wahay\\anaconda3\\lib\\site-packages (from gitdb<5,>=4.0.1->gitpython>=3.1.30->-r C:\\Users\\wahay\\Downloads\\yolov5\\yolov5-master\\requirements.txt (line 5)) (4.0.0)\n",
      "Requirement already satisfied: contourpy>=1.0.1 in c:\\users\\wahay\\anaconda3\\lib\\site-packages (from matplotlib>=3.3->-r C:\\Users\\wahay\\Downloads\\yolov5\\yolov5-master\\requirements.txt (line 6)) (1.3.1)\n",
      "Requirement already satisfied: cycler>=0.10 in c:\\users\\wahay\\anaconda3\\lib\\site-packages (from matplotlib>=3.3->-r C:\\Users\\wahay\\Downloads\\yolov5\\yolov5-master\\requirements.txt (line 6)) (0.11.0)\n",
      "Requirement already satisfied: fonttools>=4.22.0 in c:\\users\\wahay\\anaconda3\\lib\\site-packages (from matplotlib>=3.3->-r C:\\Users\\wahay\\Downloads\\yolov5\\yolov5-master\\requirements.txt (line 6)) (4.55.3)\n",
      "Requirement already satisfied: kiwisolver>=1.3.1 in c:\\users\\wahay\\anaconda3\\lib\\site-packages (from matplotlib>=3.3->-r C:\\Users\\wahay\\Downloads\\yolov5\\yolov5-master\\requirements.txt (line 6)) (1.4.8)\n",
      "Requirement already satisfied: pyparsing>=2.3.1 in c:\\users\\wahay\\anaconda3\\lib\\site-packages (from matplotlib>=3.3->-r C:\\Users\\wahay\\Downloads\\yolov5\\yolov5-master\\requirements.txt (line 6)) (3.2.0)\n",
      "Requirement already satisfied: python-dateutil>=2.7 in c:\\users\\wahay\\appdata\\roaming\\python\\python313\\site-packages (from matplotlib>=3.3->-r C:\\Users\\wahay\\Downloads\\yolov5\\yolov5-master\\requirements.txt (line 6)) (2.9.0.post0)\n",
      "Requirement already satisfied: charset-normalizer<4,>=2 in c:\\users\\wahay\\anaconda3\\lib\\site-packages (from requests>=2.32.2->-r C:\\Users\\wahay\\Downloads\\yolov5\\yolov5-master\\requirements.txt (line 12)) (3.3.2)\n",
      "Requirement already satisfied: idna<4,>=2.5 in c:\\users\\wahay\\anaconda3\\lib\\site-packages (from requests>=2.32.2->-r C:\\Users\\wahay\\Downloads\\yolov5\\yolov5-master\\requirements.txt (line 12)) (3.7)\n",
      "Requirement already satisfied: urllib3<3,>=1.21.1 in c:\\users\\wahay\\anaconda3\\lib\\site-packages (from requests>=2.32.2->-r C:\\Users\\wahay\\Downloads\\yolov5\\yolov5-master\\requirements.txt (line 12)) (2.3.0)\n",
      "Requirement already satisfied: certifi>=2017.4.17 in c:\\users\\wahay\\anaconda3\\lib\\site-packages (from requests>=2.32.2->-r C:\\Users\\wahay\\Downloads\\yolov5\\yolov5-master\\requirements.txt (line 12)) (2025.4.26)\n",
      "Requirement already satisfied: filelock in c:\\users\\wahay\\anaconda3\\lib\\site-packages (from torch>=1.8.0->-r C:\\Users\\wahay\\Downloads\\yolov5\\yolov5-master\\requirements.txt (line 15)) (3.17.0)\n",
      "Requirement already satisfied: typing-extensions>=4.10.0 in c:\\users\\wahay\\anaconda3\\lib\\site-packages (from torch>=1.8.0->-r C:\\Users\\wahay\\Downloads\\yolov5\\yolov5-master\\requirements.txt (line 15)) (4.12.2)\n",
      "Requirement already satisfied: sympy>=1.13.3 in c:\\users\\wahay\\anaconda3\\lib\\site-packages (from torch>=1.8.0->-r C:\\Users\\wahay\\Downloads\\yolov5\\yolov5-master\\requirements.txt (line 15)) (1.13.3)\n",
      "Requirement already satisfied: networkx in c:\\users\\wahay\\anaconda3\\lib\\site-packages (from torch>=1.8.0->-r C:\\Users\\wahay\\Downloads\\yolov5\\yolov5-master\\requirements.txt (line 15)) (3.4.2)\n",
      "Requirement already satisfied: jinja2 in c:\\users\\wahay\\anaconda3\\lib\\site-packages (from torch>=1.8.0->-r C:\\Users\\wahay\\Downloads\\yolov5\\yolov5-master\\requirements.txt (line 15)) (3.1.6)\n",
      "Requirement already satisfied: fsspec in c:\\users\\wahay\\anaconda3\\lib\\site-packages (from torch>=1.8.0->-r C:\\Users\\wahay\\Downloads\\yolov5\\yolov5-master\\requirements.txt (line 15)) (2025.3.2)\n",
      "Requirement already satisfied: colorama in c:\\users\\wahay\\appdata\\roaming\\python\\python313\\site-packages (from tqdm>=4.66.3->-r C:\\Users\\wahay\\Downloads\\yolov5\\yolov5-master\\requirements.txt (line 17)) (0.4.6)\n",
      "Requirement already satisfied: py-cpuinfo in c:\\users\\wahay\\anaconda3\\lib\\site-packages (from ultralytics>=8.2.64->-r C:\\Users\\wahay\\Downloads\\yolov5\\yolov5-master\\requirements.txt (line 18)) (9.0.0)\n",
      "Requirement already satisfied: polars in c:\\users\\wahay\\anaconda3\\lib\\site-packages (from ultralytics>=8.2.64->-r C:\\Users\\wahay\\Downloads\\yolov5\\yolov5-master\\requirements.txt (line 18)) (1.33.0)\n",
      "Requirement already satisfied: ultralytics-thop>=2.0.0 in c:\\users\\wahay\\anaconda3\\lib\\site-packages (from ultralytics>=8.2.64->-r C:\\Users\\wahay\\Downloads\\yolov5\\yolov5-master\\requirements.txt (line 18)) (2.0.16)\n",
      "Requirement already satisfied: pytz>=2020.1 in c:\\users\\wahay\\anaconda3\\lib\\site-packages (from pandas>=1.1.4->-r C:\\Users\\wahay\\Downloads\\yolov5\\yolov5-master\\requirements.txt (line 27)) (2024.1)\n",
      "Requirement already satisfied: tzdata>=2022.7 in c:\\users\\wahay\\anaconda3\\lib\\site-packages (from pandas>=1.1.4->-r C:\\Users\\wahay\\Downloads\\yolov5\\yolov5-master\\requirements.txt (line 27)) (2025.2)\n",
      "Requirement already satisfied: six>=1.5 in c:\\users\\wahay\\appdata\\roaming\\python\\python313\\site-packages (from python-dateutil>=2.7->matplotlib>=3.3->-r C:\\Users\\wahay\\Downloads\\yolov5\\yolov5-master\\requirements.txt (line 6)) (1.17.0)\n",
      "Requirement already satisfied: mpmath<1.4,>=1.1.0 in c:\\users\\wahay\\anaconda3\\lib\\site-packages (from sympy>=1.13.3->torch>=1.8.0->-r C:\\Users\\wahay\\Downloads\\yolov5\\yolov5-master\\requirements.txt (line 15)) (1.3.0)\n",
      "Requirement already satisfied: MarkupSafe>=2.0 in c:\\users\\wahay\\anaconda3\\lib\\site-packages (from jinja2->torch>=1.8.0->-r C:\\Users\\wahay\\Downloads\\yolov5\\yolov5-master\\requirements.txt (line 15)) (3.0.2)\n"
     ]
    }
   ],
   "source": [
    "!pip install -r C:\\Users\\wahay\\Downloads\\yolov5\\yolov5-master\\requirements.txt"
   ]
  },
  {
   "cell_type": "code",
   "execution_count": 3,
   "id": "684a6400-c355-42ce-84a1-f2dffda9cefe",
   "metadata": {},
   "outputs": [],
   "source": [
    "import torch\n",
    "import cv2"
   ]
  },
  {
   "cell_type": "code",
   "execution_count": 5,
   "id": "2e27f2e4-eadc-46a5-a02b-aaa14eb0729e",
   "metadata": {},
   "outputs": [],
   "source": [
    "import pathlib\n",
    "temp= pathlib.PosixPath\n",
    "pathlib.PosixPath = pathlib.WindowsPath"
   ]
  },
  {
   "cell_type": "code",
   "execution_count": 6,
   "id": "2d30fcc6-fc77-4426-a50c-a885b6c51335",
   "metadata": {},
   "outputs": [
    {
     "name": "stdout",
     "output_type": "stream",
     "text": [
      "Downloading: \"https://github.com/ultralytics/yolov5/zipball/master\" to C:\\Users\\wahay/.cache\\torch\\hub\\master.zip\n"
     ]
    },
    {
     "name": "stderr",
     "output_type": "stream",
     "text": [
      "YOLOv5  2025-9-3 Python-3.13.5 torch-2.8.0+cpu CPU\n",
      "\n",
      "Fusing layers... \n",
      "Model summary: 157 layers, 7015519 parameters, 0 gradients, 15.8 GFLOPs\n",
      "Adding AutoShape... \n"
     ]
    }
   ],
   "source": [
    "model = torch.hub.load(\"ultralytics/yolov5\", \"custom\", path=\"best.pt\", force_reload=True)"
   ]
  },
  {
   "cell_type": "code",
   "execution_count": null,
   "id": "bc9d575b-4527-4fae-a027-7ad5bda582ed",
   "metadata": {},
   "outputs": [
    {
     "name": "stderr",
     "output_type": "stream",
     "text": [
      "C:\\Users\\wahay/.cache\\torch\\hub\\ultralytics_yolov5_master\\models\\common.py:906: FutureWarning: `torch.cuda.amp.autocast(args...)` is deprecated. Please use `torch.amp.autocast('cuda', args...)` instead.\n",
      "  with amp.autocast(autocast):\n"
     ]
    }
   ],
   "source": [
    "image1=cv2.imread(r\"C:\\Users\\wahay\\Desktop\\image1.jpg\")\n",
    "image1=cv2.resize(image1,(400,300))\n",
    "image2=cv2.imread(r\"C:\\Users\\wahay\\Desktop\\image2.jpg\")\n",
    "image2=cv2.resize(image2,(400,300))\n",
    "result=model(image1)\n",
    "cv2.imshow(\"detection cornea\", result.render()[0])\n",
    "cv2.waitKey(0)\n",
    "cv2.destroyAllWindows()"
   ]
  },
  {
   "cell_type": "code",
   "execution_count": null,
   "id": "1c1e2355-6a91-4d7d-81d3-b2b23c7dc323",
   "metadata": {},
   "outputs": [],
   "source": []
  },
  {
   "cell_type": "code",
   "execution_count": null,
   "id": "7e0bd529-d6b8-4502-bdfe-f01bfd2a10f4",
   "metadata": {},
   "outputs": [],
   "source": []
  },
  {
   "cell_type": "code",
   "execution_count": null,
   "id": "4dd6b140-c5e4-422e-bbf8-9d409272c123",
   "metadata": {},
   "outputs": [],
   "source": []
  }
 ],
 "metadata": {
  "kernelspec": {
   "display_name": "Python 3 (ipykernel)",
   "language": "python",
   "name": "python3"
  },
  "language_info": {
   "codemirror_mode": {
    "name": "ipython",
    "version": 3
   },
   "file_extension": ".py",
   "mimetype": "text/x-python",
   "name": "python",
   "nbconvert_exporter": "python",
   "pygments_lexer": "ipython3",
   "version": "3.13.5"
  }
 },
 "nbformat": 4,
 "nbformat_minor": 5
}
